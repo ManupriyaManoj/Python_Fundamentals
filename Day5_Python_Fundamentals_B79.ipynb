{
 "cells": [
  {
   "cell_type": "code",
   "execution_count": null,
   "id": "7bb64c33",
   "metadata": {},
   "outputs": [],
   "source": [
    "LIST DATATYPE"
   ]
  },
  {
   "cell_type": "code",
   "execution_count": null,
   "id": "b1f5d0ab",
   "metadata": {},
   "outputs": [],
   "source": [
    "organize list"
   ]
  },
  {
   "cell_type": "code",
   "execution_count": 1,
   "id": "804eed47",
   "metadata": {},
   "outputs": [
    {
     "name": "stdout",
     "output_type": "stream",
     "text": [
      "['BMW', 'Renalt', 'audi', 'maruthi', 'suzuki']\n"
     ]
    }
   ],
   "source": [
    "cars = ['suzuki', 'maruthi', 'BMW', 'Renalt', 'audi']\n",
    "print(sorted(cars))"
   ]
  },
  {
   "cell_type": "code",
   "execution_count": 2,
   "id": "03cb1e1c",
   "metadata": {},
   "outputs": [
    {
     "name": "stdout",
     "output_type": "stream",
     "text": [
      "['suzuki', 'maruthi', 'BMW', 'Renalt', 'audi']\n"
     ]
    }
   ],
   "source": [
    "print(cars)"
   ]
  },
  {
   "cell_type": "code",
   "execution_count": 4,
   "id": "8a94262c",
   "metadata": {},
   "outputs": [
    {
     "name": "stdout",
     "output_type": "stream",
     "text": [
      "['BMW', 'Renalt', 'audi', 'maruthi', 'suzuki']\n"
     ]
    }
   ],
   "source": [
    "cars.sort()\n",
    "print(cars)"
   ]
  },
  {
   "cell_type": "code",
   "execution_count": 5,
   "id": "61190f7b",
   "metadata": {},
   "outputs": [
    {
     "name": "stdout",
     "output_type": "stream",
     "text": [
      "['BMW', 'Renalt', 'audi', 'maruthi', 'suzuki']\n"
     ]
    }
   ],
   "source": [
    "print(cars)"
   ]
  },
  {
   "cell_type": "code",
   "execution_count": 8,
   "id": "eede8363",
   "metadata": {},
   "outputs": [
    {
     "name": "stdout",
     "output_type": "stream",
     "text": [
      "['suzuki', 'maruthi', 'audi', 'Renalt', 'BMW']\n"
     ]
    }
   ],
   "source": [
    "cars.reverse()\n",
    "print(cars)"
   ]
  },
  {
   "cell_type": "code",
   "execution_count": 9,
   "id": "e7f473f6",
   "metadata": {},
   "outputs": [
    {
     "data": {
      "text/plain": [
       "5"
      ]
     },
     "execution_count": 9,
     "metadata": {},
     "output_type": "execute_result"
    }
   ],
   "source": [
    "len(cars)"
   ]
  },
  {
   "cell_type": "code",
   "execution_count": null,
   "id": "4ee943ff",
   "metadata": {},
   "outputs": [],
   "source": [
    "Introduction to slicing"
   ]
  },
  {
   "cell_type": "code",
   "execution_count": 10,
   "id": "8c170f1b",
   "metadata": {},
   "outputs": [
    {
     "name": "stdout",
     "output_type": "stream",
     "text": [
      "['adhi']\n"
     ]
    }
   ],
   "source": [
    "students = ['adhi', 'sara', 'ramya', 'naveen', 'adil']\n",
    "print(students[0:1])"
   ]
  },
  {
   "cell_type": "code",
   "execution_count": 11,
   "id": "96c7829e",
   "metadata": {},
   "outputs": [
    {
     "name": "stdout",
     "output_type": "stream",
     "text": [
      "['adhi', 'sara']\n"
     ]
    }
   ],
   "source": [
    "print(students[0:2])"
   ]
  },
  {
   "cell_type": "code",
   "execution_count": 12,
   "id": "e1870490",
   "metadata": {},
   "outputs": [
    {
     "name": "stdout",
     "output_type": "stream",
     "text": [
      "['adhi', 'ramya', 'adil']\n"
     ]
    }
   ],
   "source": [
    "print(students[0:5:2])"
   ]
  },
  {
   "cell_type": "code",
   "execution_count": 13,
   "id": "30e5e18b",
   "metadata": {},
   "outputs": [
    {
     "name": "stdout",
     "output_type": "stream",
     "text": [
      "adil\n"
     ]
    }
   ],
   "source": [
    "print(students[-1])"
   ]
  },
  {
   "cell_type": "code",
   "execution_count": null,
   "id": "bfc891e1",
   "metadata": {},
   "outputs": [],
   "source": []
  }
 ],
 "metadata": {
  "kernelspec": {
   "display_name": "Python 3 (ipykernel)",
   "language": "python",
   "name": "python3"
  },
  "language_info": {
   "codemirror_mode": {
    "name": "ipython",
    "version": 3
   },
   "file_extension": ".py",
   "mimetype": "text/x-python",
   "name": "python",
   "nbconvert_exporter": "python",
   "pygments_lexer": "ipython3",
   "version": "3.11.3"
  }
 },
 "nbformat": 4,
 "nbformat_minor": 5
}
