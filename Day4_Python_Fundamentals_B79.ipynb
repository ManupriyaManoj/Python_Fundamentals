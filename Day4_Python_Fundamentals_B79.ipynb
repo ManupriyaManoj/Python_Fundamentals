{
 "cells": [
  {
   "cell_type": "code",
   "execution_count": null,
   "id": "f7f8d36a",
   "metadata": {},
   "outputs": [],
   "source": [
    "LIST DATATYPES\n"
   ]
  },
  {
   "cell_type": "code",
   "execution_count": 1,
   "id": "1f32286e",
   "metadata": {},
   "outputs": [
    {
     "name": "stdout",
     "output_type": "stream",
     "text": [
      "['vinod', 'priya', 'ramya', 'rohan']\n"
     ]
    }
   ],
   "source": [
    "students = ['vinod', 'priya', 'ramya', 'rohan']\n",
    "print(students)"
   ]
  },
  {
   "cell_type": "code",
   "execution_count": 2,
   "id": "09d1f34f",
   "metadata": {},
   "outputs": [
    {
     "data": {
      "text/plain": [
       "list"
      ]
     },
     "execution_count": 2,
     "metadata": {},
     "output_type": "execute_result"
    }
   ],
   "source": [
    "type(students)"
   ]
  },
  {
   "cell_type": "code",
   "execution_count": null,
   "id": "ccf1aeb7",
   "metadata": {},
   "outputs": [],
   "source": [
    "indexing in list"
   ]
  },
  {
   "cell_type": "code",
   "execution_count": 3,
   "id": "0144f1c7",
   "metadata": {},
   "outputs": [
    {
     "name": "stdout",
     "output_type": "stream",
     "text": [
      "priya\n"
     ]
    }
   ],
   "source": [
    "print(students[1])"
   ]
  },
  {
   "cell_type": "code",
   "execution_count": 4,
   "id": "c5a639f0",
   "metadata": {},
   "outputs": [
    {
     "name": "stdout",
     "output_type": "stream",
     "text": [
      "Priya\n"
     ]
    }
   ],
   "source": [
    "print(students[1].title())"
   ]
  },
  {
   "cell_type": "code",
   "execution_count": null,
   "id": "f7d518be",
   "metadata": {},
   "outputs": [],
   "source": [
    "add an elemnet into list"
   ]
  },
  {
   "cell_type": "code",
   "execution_count": null,
   "id": "a666a5be",
   "metadata": {},
   "outputs": [],
   "source": [
    "students.append('kunal')"
   ]
  },
  {
   "cell_type": "code",
   "execution_count": 5,
   "id": "313cad22",
   "metadata": {},
   "outputs": [
    {
     "name": "stdout",
     "output_type": "stream",
     "text": [
      "['vinod', 'priya', 'ramya', 'rohan']\n"
     ]
    }
   ],
   "source": [
    "print(students)"
   ]
  },
  {
   "cell_type": "code",
   "execution_count": 6,
   "id": "df5f3588",
   "metadata": {},
   "outputs": [
    {
     "name": "stdout",
     "output_type": "stream",
     "text": [
      "['vinod', 'priya', 'ramya', 'rohan', 'kunal']\n"
     ]
    }
   ],
   "source": [
    "students.append('kunal')\n",
    "print(students)"
   ]
  },
  {
   "cell_type": "code",
   "execution_count": null,
   "id": "994d03f3",
   "metadata": {},
   "outputs": [],
   "source": [
    "add element in a particular postion"
   ]
  },
  {
   "cell_type": "code",
   "execution_count": null,
   "id": "3de1eb65",
   "metadata": {},
   "outputs": [],
   "source": [
    "#add firdous to 2nd index"
   ]
  },
  {
   "cell_type": "code",
   "execution_count": 7,
   "id": "97cac356",
   "metadata": {},
   "outputs": [
    {
     "name": "stdout",
     "output_type": "stream",
     "text": [
      "['vinod', 'priya', 'firdous', 'ramya', 'rohan', 'kunal']\n"
     ]
    }
   ],
   "source": [
    "students.insert(2,'firdous')\n",
    "print(students)"
   ]
  },
  {
   "cell_type": "code",
   "execution_count": 8,
   "id": "bfdbd6cf",
   "metadata": {},
   "outputs": [
    {
     "name": "stdout",
     "output_type": "stream",
     "text": [
      "Firdous\n"
     ]
    }
   ],
   "source": [
    "print(students[2].title())"
   ]
  },
  {
   "cell_type": "code",
   "execution_count": null,
   "id": "74e23ebe",
   "metadata": {},
   "outputs": [],
   "source": [
    "#change name from vinod to vani"
   ]
  },
  {
   "cell_type": "code",
   "execution_count": 9,
   "id": "cc318c9d",
   "metadata": {},
   "outputs": [
    {
     "ename": "NameError",
     "evalue": "name 'student' is not defined",
     "output_type": "error",
     "traceback": [
      "\u001b[0;31m---------------------------------------------------------------------------\u001b[0m",
      "\u001b[0;31mNameError\u001b[0m                                 Traceback (most recent call last)",
      "Cell \u001b[0;32mIn[9], line 1\u001b[0m\n\u001b[0;32m----> 1\u001b[0m student[o] \u001b[38;5;241m=\u001b[39m \u001b[38;5;124m'\u001b[39m\u001b[38;5;124mvani\u001b[39m\u001b[38;5;124m'\u001b[39m\n\u001b[1;32m      2\u001b[0m \u001b[38;5;28mprint\u001b[39m(students)\n",
      "\u001b[0;31mNameError\u001b[0m: name 'student' is not defined"
     ]
    }
   ],
   "source": [
    "student[o] = 'vani'\n",
    "print(students)"
   ]
  },
  {
   "cell_type": "code",
   "execution_count": 10,
   "id": "8d28bdc0",
   "metadata": {},
   "outputs": [
    {
     "name": "stdout",
     "output_type": "stream",
     "text": [
      "['vani', 'priya', 'firdous', 'ramya', 'rohan', 'kunal']\n"
     ]
    }
   ],
   "source": [
    "students[0]='vani'\n",
    "print(students)"
   ]
  },
  {
   "cell_type": "code",
   "execution_count": null,
   "id": "935b9a23",
   "metadata": {},
   "outputs": [],
   "source": [
    "#temporary del using pop()"
   ]
  },
  {
   "cell_type": "code",
   "execution_count": 11,
   "id": "70ea9475",
   "metadata": {},
   "outputs": [
    {
     "name": "stdout",
     "output_type": "stream",
     "text": [
      "['vani', 'priya', 'firdous', 'ramya', 'rohan']\n"
     ]
    }
   ],
   "source": [
    "x = students.pop()\n",
    "print(students)"
   ]
  },
  {
   "cell_type": "code",
   "execution_count": 12,
   "id": "fc2d7a2d",
   "metadata": {},
   "outputs": [
    {
     "name": "stdout",
     "output_type": "stream",
     "text": [
      "kunal\n"
     ]
    }
   ],
   "source": [
    "print(x)"
   ]
  },
  {
   "cell_type": "code",
   "execution_count": null,
   "id": "b7bb5dbf",
   "metadata": {},
   "outputs": [],
   "source": [
    "#want to del a particular element"
   ]
  },
  {
   "cell_type": "code",
   "execution_count": 13,
   "id": "6e655967",
   "metadata": {},
   "outputs": [
    {
     "name": "stdout",
     "output_type": "stream",
     "text": [
      "['vani', 'priya', 'ramya', 'rohan']\n"
     ]
    }
   ],
   "source": [
    "y = students.pop(2)\n",
    "print(students)"
   ]
  },
  {
   "cell_type": "code",
   "execution_count": null,
   "id": "fd4a0ebb",
   "metadata": {},
   "outputs": [],
   "source": [
    "#permanent del"
   ]
  },
  {
   "cell_type": "code",
   "execution_count": 15,
   "id": "cbd34b43",
   "metadata": {},
   "outputs": [],
   "source": [
    "del students[0]"
   ]
  },
  {
   "cell_type": "code",
   "execution_count": 17,
   "id": "ef98cca2",
   "metadata": {},
   "outputs": [
    {
     "name": "stdout",
     "output_type": "stream",
     "text": [
      "['priya', 'ramya', 'rohan']\n"
     ]
    }
   ],
   "source": [
    "print(students)"
   ]
  },
  {
   "cell_type": "code",
   "execution_count": null,
   "id": "4a56bb4a",
   "metadata": {},
   "outputs": [],
   "source": []
  }
 ],
 "metadata": {
  "kernelspec": {
   "display_name": "Python 3 (ipykernel)",
   "language": "python",
   "name": "python3"
  },
  "language_info": {
   "codemirror_mode": {
    "name": "ipython",
    "version": 3
   },
   "file_extension": ".py",
   "mimetype": "text/x-python",
   "name": "python",
   "nbconvert_exporter": "python",
   "pygments_lexer": "ipython3",
   "version": "3.11.3"
  }
 },
 "nbformat": 4,
 "nbformat_minor": 5
}
