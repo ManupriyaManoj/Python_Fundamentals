{
 "cells": [
  {
   "cell_type": "code",
   "execution_count": null,
   "id": "dcc3815d",
   "metadata": {},
   "outputs": [],
   "source": [
    "f string"
   ]
  },
  {
   "cell_type": "code",
   "execution_count": 14,
   "id": "f77de56d",
   "metadata": {},
   "outputs": [
    {
     "name": "stdout",
     "output_type": "stream",
     "text": [
      " praveen kumar\n"
     ]
    }
   ],
   "source": [
    "firstname='praveen'\n",
    "lastname='kumar'\n",
    "fullname=f\" {firstname} {lastname}\"\n",
    "print(fullname)"
   ]
  },
  {
   "cell_type": "code",
   "execution_count": 15,
   "id": "45fa49b2",
   "metadata": {},
   "outputs": [
    {
     "name": "stdout",
     "output_type": "stream",
     "text": [
      " keep up good work, praveen kumar\n"
     ]
    }
   ],
   "source": [
    "firstname='praveen'\n",
    "lastname='kumar'\n",
    "message=f\" keep up good work, {firstname} {lastname}\"\n",
    "print(message)"
   ]
  },
  {
   "cell_type": "code",
   "execution_count": null,
   "id": "5db2604f",
   "metadata": {},
   "outputs": [],
   "source": [
    "Adding Whitespace\n",
    "\\n----> new line\n",
    "\\t---->tab"
   ]
  },
  {
   "cell_type": "code",
   "execution_count": 16,
   "id": "adf40ded",
   "metadata": {},
   "outputs": [
    {
     "name": "stdout",
     "output_type": "stream",
     "text": [
      "Fav_lang: \n",
      "python\n",
      "java\n",
      "c++\n",
      "JS\n"
     ]
    }
   ],
   "source": [
    "print(\"Fav_lang: \\npython\\njava\\nc++\\nJS\")"
   ]
  },
  {
   "cell_type": "code",
   "execution_count": 17,
   "id": "fe783002",
   "metadata": {},
   "outputs": [
    {
     "name": "stdout",
     "output_type": "stream",
     "text": [
      "fav_lang: \n",
      "\tpython\n",
      "\tjava\n",
      "\tc++\n",
      "\tJS\n"
     ]
    }
   ],
   "source": [
    "print(\"fav_lang: \\n\\tpython\\n\\tjava\\n\\tc++\\n\\tJS\")"
   ]
  },
  {
   "cell_type": "code",
   "execution_count": null,
   "id": "436e62ce",
   "metadata": {},
   "outputs": [],
   "source": [
    "Remove Whitespace"
   ]
  },
  {
   "cell_type": "code",
   "execution_count": 18,
   "id": "2f33a06f",
   "metadata": {},
   "outputs": [
    {
     "name": "stdout",
     "output_type": "stream",
     "text": [
      " python\n"
     ]
    }
   ],
   "source": [
    "language=' python'\n",
    "print(language)"
   ]
  },
  {
   "cell_type": "code",
   "execution_count": 19,
   "id": "fe5c0570",
   "metadata": {},
   "outputs": [
    {
     "data": {
      "text/plain": [
       "'python'"
      ]
     },
     "execution_count": 19,
     "metadata": {},
     "output_type": "execute_result"
    }
   ],
   "source": [
    "language.lstrip()"
   ]
  },
  {
   "cell_type": "code",
   "execution_count": 20,
   "id": "175dbf8a",
   "metadata": {},
   "outputs": [
    {
     "name": "stdout",
     "output_type": "stream",
     "text": [
      "java \n"
     ]
    }
   ],
   "source": [
    "language2='java '\n",
    "print(language2)"
   ]
  },
  {
   "cell_type": "code",
   "execution_count": 21,
   "id": "b364ef7a",
   "metadata": {},
   "outputs": [
    {
     "data": {
      "text/plain": [
       "'java'"
      ]
     },
     "execution_count": 21,
     "metadata": {},
     "output_type": "execute_result"
    }
   ],
   "source": [
    "language2.rstrip()"
   ]
  },
  {
   "cell_type": "code",
   "execution_count": 22,
   "id": "0f926660",
   "metadata": {},
   "outputs": [
    {
     "name": "stdout",
     "output_type": "stream",
     "text": [
      " C++ \n"
     ]
    }
   ],
   "source": [
    "language3=' C++ '\n",
    "print(language3)"
   ]
  },
  {
   "cell_type": "code",
   "execution_count": 23,
   "id": "63c2f79b",
   "metadata": {},
   "outputs": [
    {
     "data": {
      "text/plain": [
       "'C++'"
      ]
     },
     "execution_count": 23,
     "metadata": {},
     "output_type": "execute_result"
    }
   ],
   "source": [
    "language3.strip()"
   ]
  },
  {
   "cell_type": "code",
   "execution_count": null,
   "id": "ee482e09",
   "metadata": {},
   "outputs": [],
   "source": []
  }
 ],
 "metadata": {
  "kernelspec": {
   "display_name": "Python 3 (ipykernel)",
   "language": "python",
   "name": "python3"
  },
  "language_info": {
   "codemirror_mode": {
    "name": "ipython",
    "version": 3
   },
   "file_extension": ".py",
   "mimetype": "text/x-python",
   "name": "python",
   "nbconvert_exporter": "python",
   "pygments_lexer": "ipython3",
   "version": "3.11.3"
  }
 },
 "nbformat": 4,
 "nbformat_minor": 5
}
